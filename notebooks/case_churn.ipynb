{
 "cells": [
  {
   "cell_type": "markdown",
   "id": "8acf6fb6",
   "metadata": {},
   "source": [
    "# Análise de Churn\n",
    "\n",
    "## 🗂️ Descrição do Projeto\n",
    "\n",
    "Este projeto é uma **Análise Descritiva e Diagnóstica** de *churn* de clientes de uma empresa de Telecomunicações, desenvolvida totalmente em **Python**.\n",
    "\n",
    "A análise explora o **perfil dos clientes**, seus **gastos mensais**, o **tempo de permanência** e como o *churn* se distribui considerando **gênero** e **status de parceria**.\n",
    "\n",
    "O objetivo é identificar **padrões e fatores que podem influenciar o cancelamento**, gerando **insights visuais claros** para apoiar estratégias de retenção de clientes."
   ]
  },
  {
   "cell_type": "markdown",
   "id": "a8d5910e",
   "metadata": {},
   "source": [
    "## Importando os pacotes necessários"
   ]
  },
  {
   "cell_type": "code",
   "execution_count": 2,
   "id": "e58d1d6a",
   "metadata": {},
   "outputs": [],
   "source": [
    "import pandas as pd\n",
    "import numpy as np\n",
    "import matplotlib.pyplot as plt\n",
    "import seaborn as sns"
   ]
  },
  {
   "cell_type": "code",
   "execution_count": 3,
   "id": "37d1a109",
   "metadata": {},
   "outputs": [],
   "source": [
    "df = pd.read_csv('WA_Fn-UseC_-Telco-Customer-Churn.csv')"
   ]
  },
  {
   "cell_type": "markdown",
   "id": "8d62a95e",
   "metadata": {},
   "source": [
    "## Dicionário de Variáveis\n",
    "\n",
    "| Variável           | Descrição                                               |\n",
    "|--------------------|---------------------------------------------------------|\n",
    "| `customerID`       | Identificador único do cliente                          |\n",
    "| `gender`           | Gênero                                                   |\n",
    "| `SeniorCitizen`    | Se o cliente é idoso (0 = não, 1 = sim)                 |\n",
    "| `Partner`          | Se o cliente tem parceiro(a)                            |\n",
    "| `Dependents`       | Se o cliente tem dependentes                            |\n",
    "| `tenure`           | Tempo (em meses) que o cliente está na empresa          |\n",
    "| `PhoneService`     | Se o cliente tem serviço de telefone                    |\n",
    "| `MultipleLines`    | Se tem várias linhas telefônicas                        |\n",
    "| `InternetService`  | Tipo de serviço de internet                             |\n",
    "| `OnlineSecurity`   | Se possui segurança online                              |\n",
    "| `OnlineBackup`     | Se possui backup online                                 |\n",
    "| `DeviceProtection` | Se possui proteção para dispositivo                     |\n",
    "| `TechSupport`      | Se possui suporte técnico                               |\n",
    "| `StreamingTV`      | Se possui serviço de TV por streaming                   |\n",
    "| `StreamingMovies`  | Se possui serviço de filmes por streaming               |\n",
    "| `Contract`         | Tipo de contrato (mensal, 1 ano, 2 anos)                |\n",
    "| `PaperlessBilling` | Se recebe fatura eletrônica                             |\n",
    "| `PaymentMethod`    | Método de pagamento                                     |\n",
    "| `MonthlyCharges`   | Valor mensal cobrado                                    |\n",
    "| `TotalCharges`     | Valor total cobrado                                     |\n",
    "| `Churn`            | Se o cliente cancelou (Yes/No)                          |"
   ]
  },
  {
   "cell_type": "markdown",
   "id": "a8c07a90",
   "metadata": {},
   "source": [
    "## Exploração Univariada"
   ]
  },
  {
   "cell_type": "code",
   "execution_count": 4,
   "id": "c9fe5b76",
   "metadata": {},
   "outputs": [
    {
     "data": {
      "text/html": [
       "<div>\n",
       "<style scoped>\n",
       "    .dataframe tbody tr th:only-of-type {\n",
       "        vertical-align: middle;\n",
       "    }\n",
       "\n",
       "    .dataframe tbody tr th {\n",
       "        vertical-align: top;\n",
       "    }\n",
       "\n",
       "    .dataframe thead th {\n",
       "        text-align: right;\n",
       "    }\n",
       "</style>\n",
       "<table border=\"1\" class=\"dataframe\">\n",
       "  <thead>\n",
       "    <tr style=\"text-align: right;\">\n",
       "      <th></th>\n",
       "      <th>customerID</th>\n",
       "      <th>gender</th>\n",
       "      <th>SeniorCitizen</th>\n",
       "      <th>Partner</th>\n",
       "      <th>Dependents</th>\n",
       "      <th>tenure</th>\n",
       "      <th>PhoneService</th>\n",
       "      <th>MultipleLines</th>\n",
       "      <th>InternetService</th>\n",
       "      <th>OnlineSecurity</th>\n",
       "      <th>...</th>\n",
       "      <th>DeviceProtection</th>\n",
       "      <th>TechSupport</th>\n",
       "      <th>StreamingTV</th>\n",
       "      <th>StreamingMovies</th>\n",
       "      <th>Contract</th>\n",
       "      <th>PaperlessBilling</th>\n",
       "      <th>PaymentMethod</th>\n",
       "      <th>MonthlyCharges</th>\n",
       "      <th>TotalCharges</th>\n",
       "      <th>Churn</th>\n",
       "    </tr>\n",
       "  </thead>\n",
       "  <tbody>\n",
       "    <tr>\n",
       "      <th>0</th>\n",
       "      <td>7590-VHVEG</td>\n",
       "      <td>Female</td>\n",
       "      <td>0</td>\n",
       "      <td>Yes</td>\n",
       "      <td>No</td>\n",
       "      <td>1</td>\n",
       "      <td>No</td>\n",
       "      <td>No phone service</td>\n",
       "      <td>DSL</td>\n",
       "      <td>No</td>\n",
       "      <td>...</td>\n",
       "      <td>No</td>\n",
       "      <td>No</td>\n",
       "      <td>No</td>\n",
       "      <td>No</td>\n",
       "      <td>Month-to-month</td>\n",
       "      <td>Yes</td>\n",
       "      <td>Electronic check</td>\n",
       "      <td>29.85</td>\n",
       "      <td>29.85</td>\n",
       "      <td>No</td>\n",
       "    </tr>\n",
       "    <tr>\n",
       "      <th>1</th>\n",
       "      <td>5575-GNVDE</td>\n",
       "      <td>Male</td>\n",
       "      <td>0</td>\n",
       "      <td>No</td>\n",
       "      <td>No</td>\n",
       "      <td>34</td>\n",
       "      <td>Yes</td>\n",
       "      <td>No</td>\n",
       "      <td>DSL</td>\n",
       "      <td>Yes</td>\n",
       "      <td>...</td>\n",
       "      <td>Yes</td>\n",
       "      <td>No</td>\n",
       "      <td>No</td>\n",
       "      <td>No</td>\n",
       "      <td>One year</td>\n",
       "      <td>No</td>\n",
       "      <td>Mailed check</td>\n",
       "      <td>56.95</td>\n",
       "      <td>1889.5</td>\n",
       "      <td>No</td>\n",
       "    </tr>\n",
       "    <tr>\n",
       "      <th>2</th>\n",
       "      <td>3668-QPYBK</td>\n",
       "      <td>Male</td>\n",
       "      <td>0</td>\n",
       "      <td>No</td>\n",
       "      <td>No</td>\n",
       "      <td>2</td>\n",
       "      <td>Yes</td>\n",
       "      <td>No</td>\n",
       "      <td>DSL</td>\n",
       "      <td>Yes</td>\n",
       "      <td>...</td>\n",
       "      <td>No</td>\n",
       "      <td>No</td>\n",
       "      <td>No</td>\n",
       "      <td>No</td>\n",
       "      <td>Month-to-month</td>\n",
       "      <td>Yes</td>\n",
       "      <td>Mailed check</td>\n",
       "      <td>53.85</td>\n",
       "      <td>108.15</td>\n",
       "      <td>Yes</td>\n",
       "    </tr>\n",
       "    <tr>\n",
       "      <th>3</th>\n",
       "      <td>7795-CFOCW</td>\n",
       "      <td>Male</td>\n",
       "      <td>0</td>\n",
       "      <td>No</td>\n",
       "      <td>No</td>\n",
       "      <td>45</td>\n",
       "      <td>No</td>\n",
       "      <td>No phone service</td>\n",
       "      <td>DSL</td>\n",
       "      <td>Yes</td>\n",
       "      <td>...</td>\n",
       "      <td>Yes</td>\n",
       "      <td>Yes</td>\n",
       "      <td>No</td>\n",
       "      <td>No</td>\n",
       "      <td>One year</td>\n",
       "      <td>No</td>\n",
       "      <td>Bank transfer (automatic)</td>\n",
       "      <td>42.30</td>\n",
       "      <td>1840.75</td>\n",
       "      <td>No</td>\n",
       "    </tr>\n",
       "    <tr>\n",
       "      <th>4</th>\n",
       "      <td>9237-HQITU</td>\n",
       "      <td>Female</td>\n",
       "      <td>0</td>\n",
       "      <td>No</td>\n",
       "      <td>No</td>\n",
       "      <td>2</td>\n",
       "      <td>Yes</td>\n",
       "      <td>No</td>\n",
       "      <td>Fiber optic</td>\n",
       "      <td>No</td>\n",
       "      <td>...</td>\n",
       "      <td>No</td>\n",
       "      <td>No</td>\n",
       "      <td>No</td>\n",
       "      <td>No</td>\n",
       "      <td>Month-to-month</td>\n",
       "      <td>Yes</td>\n",
       "      <td>Electronic check</td>\n",
       "      <td>70.70</td>\n",
       "      <td>151.65</td>\n",
       "      <td>Yes</td>\n",
       "    </tr>\n",
       "  </tbody>\n",
       "</table>\n",
       "<p>5 rows × 21 columns</p>\n",
       "</div>"
      ],
      "text/plain": [
       "   customerID  gender  SeniorCitizen Partner Dependents  tenure PhoneService  \\\n",
       "0  7590-VHVEG  Female              0     Yes         No       1           No   \n",
       "1  5575-GNVDE    Male              0      No         No      34          Yes   \n",
       "2  3668-QPYBK    Male              0      No         No       2          Yes   \n",
       "3  7795-CFOCW    Male              0      No         No      45           No   \n",
       "4  9237-HQITU  Female              0      No         No       2          Yes   \n",
       "\n",
       "      MultipleLines InternetService OnlineSecurity  ... DeviceProtection  \\\n",
       "0  No phone service             DSL             No  ...               No   \n",
       "1                No             DSL            Yes  ...              Yes   \n",
       "2                No             DSL            Yes  ...               No   \n",
       "3  No phone service             DSL            Yes  ...              Yes   \n",
       "4                No     Fiber optic             No  ...               No   \n",
       "\n",
       "  TechSupport StreamingTV StreamingMovies        Contract PaperlessBilling  \\\n",
       "0          No          No              No  Month-to-month              Yes   \n",
       "1          No          No              No        One year               No   \n",
       "2          No          No              No  Month-to-month              Yes   \n",
       "3         Yes          No              No        One year               No   \n",
       "4          No          No              No  Month-to-month              Yes   \n",
       "\n",
       "               PaymentMethod MonthlyCharges  TotalCharges Churn  \n",
       "0           Electronic check          29.85         29.85    No  \n",
       "1               Mailed check          56.95        1889.5    No  \n",
       "2               Mailed check          53.85        108.15   Yes  \n",
       "3  Bank transfer (automatic)          42.30       1840.75    No  \n",
       "4           Electronic check          70.70        151.65   Yes  \n",
       "\n",
       "[5 rows x 21 columns]"
      ]
     },
     "execution_count": 4,
     "metadata": {},
     "output_type": "execute_result"
    }
   ],
   "source": [
    "df.head()"
   ]
  },
  {
   "cell_type": "code",
   "execution_count": 5,
   "id": "66cd7eab",
   "metadata": {},
   "outputs": [
    {
     "data": {
      "text/html": [
       "<div>\n",
       "<style scoped>\n",
       "    .dataframe tbody tr th:only-of-type {\n",
       "        vertical-align: middle;\n",
       "    }\n",
       "\n",
       "    .dataframe tbody tr th {\n",
       "        vertical-align: top;\n",
       "    }\n",
       "\n",
       "    .dataframe thead th {\n",
       "        text-align: right;\n",
       "    }\n",
       "</style>\n",
       "<table border=\"1\" class=\"dataframe\">\n",
       "  <thead>\n",
       "    <tr style=\"text-align: right;\">\n",
       "      <th></th>\n",
       "      <th>Tipo</th>\n",
       "      <th>Nulos</th>\n",
       "      <th>% Nulos</th>\n",
       "      <th>Valores Únicos</th>\n",
       "      <th>Exemplo de Valores</th>\n",
       "    </tr>\n",
       "  </thead>\n",
       "  <tbody>\n",
       "    <tr>\n",
       "      <th>customerID</th>\n",
       "      <td>object</td>\n",
       "      <td>0</td>\n",
       "      <td>0.0</td>\n",
       "      <td>7043</td>\n",
       "      <td>[7590-VHVEG, 5575-GNVDE, 3668-QPYBK]</td>\n",
       "    </tr>\n",
       "    <tr>\n",
       "      <th>gender</th>\n",
       "      <td>object</td>\n",
       "      <td>0</td>\n",
       "      <td>0.0</td>\n",
       "      <td>2</td>\n",
       "      <td>[Female, Male]</td>\n",
       "    </tr>\n",
       "    <tr>\n",
       "      <th>SeniorCitizen</th>\n",
       "      <td>int64</td>\n",
       "      <td>0</td>\n",
       "      <td>0.0</td>\n",
       "      <td>2</td>\n",
       "      <td>[0, 1]</td>\n",
       "    </tr>\n",
       "    <tr>\n",
       "      <th>Partner</th>\n",
       "      <td>object</td>\n",
       "      <td>0</td>\n",
       "      <td>0.0</td>\n",
       "      <td>2</td>\n",
       "      <td>[Yes, No]</td>\n",
       "    </tr>\n",
       "    <tr>\n",
       "      <th>Dependents</th>\n",
       "      <td>object</td>\n",
       "      <td>0</td>\n",
       "      <td>0.0</td>\n",
       "      <td>2</td>\n",
       "      <td>[No, Yes]</td>\n",
       "    </tr>\n",
       "    <tr>\n",
       "      <th>tenure</th>\n",
       "      <td>int64</td>\n",
       "      <td>0</td>\n",
       "      <td>0.0</td>\n",
       "      <td>73</td>\n",
       "      <td>[1, 34, 2]</td>\n",
       "    </tr>\n",
       "    <tr>\n",
       "      <th>PhoneService</th>\n",
       "      <td>object</td>\n",
       "      <td>0</td>\n",
       "      <td>0.0</td>\n",
       "      <td>2</td>\n",
       "      <td>[No, Yes]</td>\n",
       "    </tr>\n",
       "    <tr>\n",
       "      <th>MultipleLines</th>\n",
       "      <td>object</td>\n",
       "      <td>0</td>\n",
       "      <td>0.0</td>\n",
       "      <td>3</td>\n",
       "      <td>[No phone service, No, Yes]</td>\n",
       "    </tr>\n",
       "    <tr>\n",
       "      <th>InternetService</th>\n",
       "      <td>object</td>\n",
       "      <td>0</td>\n",
       "      <td>0.0</td>\n",
       "      <td>3</td>\n",
       "      <td>[DSL, Fiber optic, No]</td>\n",
       "    </tr>\n",
       "    <tr>\n",
       "      <th>OnlineSecurity</th>\n",
       "      <td>object</td>\n",
       "      <td>0</td>\n",
       "      <td>0.0</td>\n",
       "      <td>3</td>\n",
       "      <td>[No, Yes, No internet service]</td>\n",
       "    </tr>\n",
       "    <tr>\n",
       "      <th>OnlineBackup</th>\n",
       "      <td>object</td>\n",
       "      <td>0</td>\n",
       "      <td>0.0</td>\n",
       "      <td>3</td>\n",
       "      <td>[Yes, No, No internet service]</td>\n",
       "    </tr>\n",
       "    <tr>\n",
       "      <th>DeviceProtection</th>\n",
       "      <td>object</td>\n",
       "      <td>0</td>\n",
       "      <td>0.0</td>\n",
       "      <td>3</td>\n",
       "      <td>[No, Yes, No internet service]</td>\n",
       "    </tr>\n",
       "    <tr>\n",
       "      <th>TechSupport</th>\n",
       "      <td>object</td>\n",
       "      <td>0</td>\n",
       "      <td>0.0</td>\n",
       "      <td>3</td>\n",
       "      <td>[No, Yes, No internet service]</td>\n",
       "    </tr>\n",
       "    <tr>\n",
       "      <th>StreamingTV</th>\n",
       "      <td>object</td>\n",
       "      <td>0</td>\n",
       "      <td>0.0</td>\n",
       "      <td>3</td>\n",
       "      <td>[No, Yes, No internet service]</td>\n",
       "    </tr>\n",
       "    <tr>\n",
       "      <th>StreamingMovies</th>\n",
       "      <td>object</td>\n",
       "      <td>0</td>\n",
       "      <td>0.0</td>\n",
       "      <td>3</td>\n",
       "      <td>[No, Yes, No internet service]</td>\n",
       "    </tr>\n",
       "    <tr>\n",
       "      <th>Contract</th>\n",
       "      <td>object</td>\n",
       "      <td>0</td>\n",
       "      <td>0.0</td>\n",
       "      <td>3</td>\n",
       "      <td>[Month-to-month, One year, Two year]</td>\n",
       "    </tr>\n",
       "    <tr>\n",
       "      <th>PaperlessBilling</th>\n",
       "      <td>object</td>\n",
       "      <td>0</td>\n",
       "      <td>0.0</td>\n",
       "      <td>2</td>\n",
       "      <td>[Yes, No]</td>\n",
       "    </tr>\n",
       "    <tr>\n",
       "      <th>PaymentMethod</th>\n",
       "      <td>object</td>\n",
       "      <td>0</td>\n",
       "      <td>0.0</td>\n",
       "      <td>4</td>\n",
       "      <td>[Electronic check, Mailed check, Bank transfer...</td>\n",
       "    </tr>\n",
       "    <tr>\n",
       "      <th>MonthlyCharges</th>\n",
       "      <td>float64</td>\n",
       "      <td>0</td>\n",
       "      <td>0.0</td>\n",
       "      <td>1585</td>\n",
       "      <td>[29.85, 56.95, 53.85]</td>\n",
       "    </tr>\n",
       "    <tr>\n",
       "      <th>TotalCharges</th>\n",
       "      <td>object</td>\n",
       "      <td>0</td>\n",
       "      <td>0.0</td>\n",
       "      <td>6531</td>\n",
       "      <td>[29.85, 1889.5, 108.15]</td>\n",
       "    </tr>\n",
       "    <tr>\n",
       "      <th>Churn</th>\n",
       "      <td>object</td>\n",
       "      <td>0</td>\n",
       "      <td>0.0</td>\n",
       "      <td>2</td>\n",
       "      <td>[No, Yes]</td>\n",
       "    </tr>\n",
       "  </tbody>\n",
       "</table>\n",
       "</div>"
      ],
      "text/plain": [
       "                     Tipo  Nulos  % Nulos  Valores Únicos  \\\n",
       "customerID         object      0      0.0            7043   \n",
       "gender             object      0      0.0               2   \n",
       "SeniorCitizen       int64      0      0.0               2   \n",
       "Partner            object      0      0.0               2   \n",
       "Dependents         object      0      0.0               2   \n",
       "tenure              int64      0      0.0              73   \n",
       "PhoneService       object      0      0.0               2   \n",
       "MultipleLines      object      0      0.0               3   \n",
       "InternetService    object      0      0.0               3   \n",
       "OnlineSecurity     object      0      0.0               3   \n",
       "OnlineBackup       object      0      0.0               3   \n",
       "DeviceProtection   object      0      0.0               3   \n",
       "TechSupport        object      0      0.0               3   \n",
       "StreamingTV        object      0      0.0               3   \n",
       "StreamingMovies    object      0      0.0               3   \n",
       "Contract           object      0      0.0               3   \n",
       "PaperlessBilling   object      0      0.0               2   \n",
       "PaymentMethod      object      0      0.0               4   \n",
       "MonthlyCharges    float64      0      0.0            1585   \n",
       "TotalCharges       object      0      0.0            6531   \n",
       "Churn              object      0      0.0               2   \n",
       "\n",
       "                                                 Exemplo de Valores  \n",
       "customerID                     [7590-VHVEG, 5575-GNVDE, 3668-QPYBK]  \n",
       "gender                                               [Female, Male]  \n",
       "SeniorCitizen                                                [0, 1]  \n",
       "Partner                                                   [Yes, No]  \n",
       "Dependents                                                [No, Yes]  \n",
       "tenure                                                   [1, 34, 2]  \n",
       "PhoneService                                              [No, Yes]  \n",
       "MultipleLines                           [No phone service, No, Yes]  \n",
       "InternetService                              [DSL, Fiber optic, No]  \n",
       "OnlineSecurity                       [No, Yes, No internet service]  \n",
       "OnlineBackup                         [Yes, No, No internet service]  \n",
       "DeviceProtection                     [No, Yes, No internet service]  \n",
       "TechSupport                          [No, Yes, No internet service]  \n",
       "StreamingTV                          [No, Yes, No internet service]  \n",
       "StreamingMovies                      [No, Yes, No internet service]  \n",
       "Contract                       [Month-to-month, One year, Two year]  \n",
       "PaperlessBilling                                          [Yes, No]  \n",
       "PaymentMethod     [Electronic check, Mailed check, Bank transfer...  \n",
       "MonthlyCharges                                [29.85, 56.95, 53.85]  \n",
       "TotalCharges                                [29.85, 1889.5, 108.15]  \n",
       "Churn                                                     [No, Yes]  "
      ]
     },
     "execution_count": 5,
     "metadata": {},
     "output_type": "execute_result"
    }
   ],
   "source": [
    "# Visão geral dos tipos de dados e valores nulos\n",
    "exploracao = pd.DataFrame({\n",
    "    \"Tipo\": df.dtypes,\n",
    "    \"Nulos\": df.isnull().sum(),\n",
    "    \"% Nulos\": df.isnull().mean() * 100,\n",
    "    \"Valores Únicos\" : df.nunique(),\n",
    "    \"Exemplo de Valores\" : df.apply(lambda x: x.unique()[:3])\n",
    "})\n",
    "exploracao"
   ]
  },
  {
   "cell_type": "markdown",
   "id": "773f89d6",
   "metadata": {},
   "source": [
    "No resultado da tabela, podemos ver que não há problemas e não serão necessárias ações para a limpeza de dados\n",
    "O dataset já se encontra pronto para análise\n",
    "\n",
    "Agora vamos analisar as variáveis Univariadas\n",
    "\n",
    "- gender, Partner, Dependents\n",
    "- tenure, MonthlyCharges, TotalCharges"
   ]
  },
  {
   "cell_type": "markdown",
   "id": "7d8d58e5",
   "metadata": {},
   "source": [
    "#### gender (Gênero)"
   ]
  },
  {
   "cell_type": "code",
   "execution_count": 6,
   "id": "3f43ed27",
   "metadata": {},
   "outputs": [
    {
     "data": {
      "image/png": "[encoded data removed]",
      "text/plain": [
       "<Figure size 500x300 with 1 Axes>"
      ]
     },
     "metadata": {},
     "output_type": "display_data"
    },
    {
     "data": {
      "text/plain": [
       "(gender\n",
       " Male      3555\n",
       " Female    3488\n",
       " Name: count, dtype: int64,\n",
       " gender\n",
       " Male      50.47565\n",
       " Female    49.52435\n",
       " Name: proportion, dtype: float64,\n",
       " array(['Female', 'Male'], dtype=object))"
      ]
     },
     "execution_count": 6,
     "metadata": {},
     "output_type": "execute_result"
    }
   ],
   "source": [
    "# Análise da coluna 'gender'\n",
    "\n",
    "coluna = \"gender\"\n",
    "\n",
    "# Valores únicos\n",
    "valores_unicos = df[coluna].unique()\n",
    "\n",
    "# Frequência absoluta e relativa\n",
    "frequencia_absoluta = df[coluna].value_counts()\n",
    "frequencia_relativa = df[coluna].value_counts(normalize=True) * 100\n",
    "\n",
    "# Gráfico\n",
    "plt.figure(figsize=(5,3))\n",
    "frequencia_absoluta.plot(kind='bar', color=[\"#807D7D\", \"#2525F5\"])\n",
    "plt.title('Distribuição: De Gênero')\n",
    "plt.xlabel('Gênero')\n",
    "plt.ylabel('Frequência Absoluta')\n",
    "plt.show()\n",
    "\n",
    "frequencia_absoluta, frequencia_relativa, valores_unicos\n"
   ]
  },
  {
   "cell_type": "markdown",
   "id": "a64cae1b",
   "metadata": {},
   "source": [
    "A variável 'gender' é uma variável categórica.\n",
    "\n",
    "Existem apenas duas variáveis distintas: \"Female\" e \"Male\".\n",
    "\n",
    "Distribuição\n",
    "- A distribuição está quase que praticamente equilibrada: Male 50,47 e Female 49.52\n",
    "- Em relação a qualidade dos dados não há nada para ser ajustado.\n",
    "\n",
    "Análise\n",
    "- Grande oportunidade para-se verificar a proporção de gênero por churn, dessa forma podemos verificar se tem algum impacto em relação ao gênero"
   ]
  },
  {
   "cell_type": "markdown",
   "id": "27742032",
   "metadata": {},
   "source": [
    "#### Partner (Parceiro)"
   ]
  },
  {
   "cell_type": "code",
   "execution_count": 7,
   "id": "6b9d8a72",
   "metadata": {},
   "outputs": [
    {
     "data": {
      "image/png": "[encoded data removed]",
      "text/plain": [
       "<Figure size 500x300 with 1 Axes>"
      ]
     },
     "metadata": {},
     "output_type": "display_data"
    },
    {
     "data": {
      "text/plain": [
       "(Partner\n",
       " No     3641\n",
       " Yes    3402\n",
       " Name: count, dtype: int64,\n",
       " Partner\n",
       " No     51.69672\n",
       " Yes    48.30328\n",
       " Name: proportion, dtype: float64,\n",
       " 2)"
      ]
     },
     "execution_count": 7,
     "metadata": {},
     "output_type": "execute_result"
    }
   ],
   "source": [
    "coluna = \"Partner\"\n",
    "\n",
    "valores_unicos = df[coluna].nunique()\n",
    "frequencia_absoluta = df[coluna].value_counts()\n",
    "frequencia_relativa = df[coluna].value_counts(normalize=True) * 100\n",
    "\n",
    "# Gráfico\n",
    "plt.figure(figsize=(5, 3))\n",
    "frequencia_absoluta.plot(kind='bar', color=[\"#807D7D\", \"#2525F5\"])\n",
    "plt.title('Distribuição: Parceiro')\n",
    "plt.xlabel('Gênero')\n",
    "plt.ylabel('Frequência Absoluta')\n",
    "plt.show()\n",
    "\n",
    "frequencia_absoluta, frequencia_relativa, valores_unicos"
   ]
  },
  {
   "cell_type": "markdown",
   "id": "9c4cf8b7",
   "metadata": {},
   "source": [
    "A variável 'Partner' é uma variável categórica.\n",
    "\n",
    "Existem apenas duas variáveis distintas: \"Yes\" e \"No\".\n",
    "\n",
    "Distribuição\n",
    "- A distribuição está quase que praticamente equilibrada também: Yes 48,30 e No 51.69\n",
    "\n",
    "Análise\n",
    "- Podemos analisar se ter algum parceiro/relacionamento influência no aumento de churn(cancelamento), diminuição ou se não existe nenhuma influência"
   ]
  },
  {
   "cell_type": "markdown",
   "id": "3642602d",
   "metadata": {},
   "source": [
    "#### Dependents (Dependentes)"
   ]
  },
  {
   "cell_type": "code",
   "execution_count": 8,
   "id": "26061c6b",
   "metadata": {},
   "outputs": [
    {
     "data": {
      "image/png": "[encoded data removed]",
      "text/plain": [
       "<Figure size 500x300 with 1 Axes>"
      ]
     },
     "metadata": {},
     "output_type": "display_data"
    },
    {
     "data": {
      "text/plain": [
       "(Dependents\n",
       " No     4933\n",
       " Yes    2110\n",
       " Name: count, dtype: int64,\n",
       " Dependents\n",
       " No     70.041176\n",
       " Yes    29.958824\n",
       " Name: proportion, dtype: float64,\n",
       " 2)"
      ]
     },
     "execution_count": 8,
     "metadata": {},
     "output_type": "execute_result"
    }
   ],
   "source": [
    "coluna = \"Dependents\"\n",
    "\n",
    "# Valores únicos\n",
    "valores_unicos = df[coluna].nunique()\n",
    "\n",
    "frequencia_absoluta = df[coluna].value_counts()\n",
    "frequencia_relativa = df[coluna].value_counts(normalize=True) * 100\n",
    "\n",
    "plt.figure(figsize=(5, 3))\n",
    "frequencia_absoluta.plot(kind='bar', color=[\"#807D7D\", \"#2525F5\"])\n",
    "plt.title(\"Distribuição: Dependentes\")\n",
    "plt.xlabel(\"Dependentes\")\n",
    "plt.ylabel(\"Frequência Absoluta\")\n",
    "plt.show()\n",
    "\n",
    "frequencia_absoluta, frequencia_relativa, valores_unicos"
   ]
  },
  {
   "cell_type": "markdown",
   "id": "f1d20052",
   "metadata": {},
   "source": [
    "A variável Dependents é uma variável categórica.\n",
    "Existem apenas duas variáveis distintas: \"Yes\" e \"No\"\n",
    "\n",
    "Distribuição\n",
    "- A distribuição já é desproporcional com \"70%\" Dos clientes não possuindo dependentes e 30% Possuindo Dependentes\n",
    "\n",
    "Análise\n",
    "- Podemos analisar se a variável e essa resultado desproporcional influencia ou não no aumento de churn ou se não tem relevência no aumento ou queda de churn"
   ]
  },
  {
   "cell_type": "markdown",
   "id": "70ea6709",
   "metadata": {},
   "source": [
    "#### Tenure (Meses que o cliente está na empresa)"
   ]
  },
  {
   "cell_type": "code",
   "execution_count": 9,
   "id": "26451fed",
   "metadata": {},
   "outputs": [
    {
     "name": "stdout",
     "output_type": "stream",
     "text": [
      "Top 10 Meses Com Maior Frequência\n",
      "tenure\n",
      "1     613\n",
      "72    362\n",
      "2     238\n",
      "3     200\n",
      "4     176\n",
      "71    170\n",
      "5     133\n",
      "7     131\n",
      "8     123\n",
      "70    119\n",
      "Name: count, dtype: int64\n"
     ]
    },
    {
     "data": {
      "text/plain": [
       "(73,\n",
       " count    7043.000000\n",
       " mean       32.371149\n",
       " std        24.559481\n",
       " min         0.000000\n",
       " 25%         9.000000\n",
       " 50%        29.000000\n",
       " 75%        55.000000\n",
       " max        72.000000\n",
       " Name: tenure, dtype: float64)"
      ]
     },
     "execution_count": 9,
     "metadata": {},
     "output_type": "execute_result"
    },
    {
     "data": {
      "image/png": "[encoded data removed]",
      "text/plain": [
       "<Figure size 800x400 with 1 Axes>"
      ]
     },
     "metadata": {},
     "output_type": "display_data"
    }
   ],
   "source": [
    "meses = 'tenure'\n",
    "\n",
    "valores_unicos = df[meses].nunique()\n",
    "descritivo = df[meses].describe()\n",
    "\n",
    "\n",
    "# Frequência dos meses mais comuns Top (10)\n",
    "top_10meses = df[meses].value_counts().head(10)\n",
    "print('Top 10 Meses Com Maior Frequência')\n",
    "print(top_10meses)\n",
    "\n",
    "# Histograma para verificas a distribuição/Concentração\n",
    "plt.figure(figsize=(8, 4))\n",
    "plt.hist(df[meses], bins=20, color='#807D7D')\n",
    "plt.title('Distribuição: Tempo em (meses) que o cliente permanece na empresa')\n",
    "plt.xlabel('Meses')\n",
    "plt.ylabel('Clientes')\n",
    "\n",
    "\n",
    "valores_unicos, descritivo"
   ]
  },
  {
   "cell_type": "markdown",
   "id": "d147c834",
   "metadata": {},
   "source": [
    "A variável **Tenure** representa o **tempo em meses que o cliente permanece na empresa é registrada como discreta numérica.**\n",
    "\n",
    "Podemos notar que os meses iniciam no mês 0, primerio mês que o cliente acabou de adquirir ou contratar o serviço, até o mês 70 que equivale a 5 anos e 8 meses. o que significa que o cliente mais antigo está na base há **cerca de 5 anos e 8 meses**. \n",
    "\n",
    "Não foi detectado Outliers \n",
    "\n",
    "Podemos ver também que os meses com maior frequência se localiza nós primeiros meses com clientes recém chegados ou clientes mais fiéis que permaneceram com o serviço\n",
    "\n",
    "Distribuição\n",
    "- A média é de **aproximadamente 32 meses, mediana de 29 meses, com um desvio padrão alto de 24.55** \n",
    "- significando que os dados estão muito dispersos em relação a média, **nota-se que o gráfico demonstra isso com uma maior concentração de cliente nas extremidades**, significa que a permanência dos clientes se encontram dispersos da média, centro, com um tempo de permanência de metade dos clientes com **2 anos e 6 meses**.\n",
    "\n",
    "Análise\n",
    "- Essa variabilidade sugere **grupos de clientes recém chegados até clientes mais fiéis**. O que pode ser interessante para verificar algum padrão de churn\n",
    "\n"
   ]
  },
  {
   "cell_type": "markdown",
   "id": "b29729a7",
   "metadata": {},
   "source": [
    "#### MonthlyCharges (Valor Mensal Cobrado)"
   ]
  },
  {
   "cell_type": "code",
   "execution_count": 10,
   "id": "fbf77109",
   "metadata": {},
   "outputs": [
    {
     "data": {
      "text/plain": [
       "(1585,\n",
       " count    7043.000000\n",
       " mean       64.761692\n",
       " std        30.090047\n",
       " min        18.250000\n",
       " 25%        35.500000\n",
       " 50%        70.350000\n",
       " 75%        89.850000\n",
       " max       118.750000\n",
       " Name: MonthlyCharges, dtype: float64)"
      ]
     },
     "execution_count": 10,
     "metadata": {},
     "output_type": "execute_result"
    },
    {
     "data": {
      "image/png": "[encoded data removed]",
      "text/plain": [
       "<Figure size 500x300 with 1 Axes>"
      ]
     },
     "metadata": {},
     "output_type": "display_data"
    }
   ],
   "source": [
    "coluna = 'MonthlyCharges'\n",
    "\n",
    "valores_unicos = df[coluna].nunique()\n",
    "descricao = df[coluna].describe()\n",
    "\n",
    "plt.figure(figsize=(5, 3))\n",
    "plt.title('Descrição: Valor Mensal Cobrado')\n",
    "plt.xlabel('Valor Mensal Cobrado')\n",
    "plt.ylabel('Clientes')\n",
    "plt.hist(df[coluna], bins=20, color=['#807D7D'])\n",
    "\n",
    "valores_unicos, descricao"
   ]
  },
  {
   "cell_type": "markdown",
   "id": "ad40ca23",
   "metadata": {},
   "source": [
    "A variável MonthlyCharges representa **o valor mensal cobrado, é registrado como variável numérica contínua**\n",
    "\n",
    "Não foi detectado Outliers em relação a algum valor discrepante.\n",
    "\n",
    "E não foi detectado algum valor nulo ou valor ausente\n",
    "\n",
    "Distribuição\n",
    "- A média é de **64.76 valor cobrado por mês** , mediana de 70,35 e desvio padrão de 30 indicando uma dispersão de valor cobrado, **com metadeos clientes sendo cobrado o valor menor que 70,25**\n",
    "- Histograma demonstra uma alta concentração no início, **indicando que uma alta quantidade de clientes paga um menor valor por mês** e uma cauda para a direita com cobranças mais altas.\n",
    "\n",
    "Análise\n",
    "- Podemos verificar se MonthlyCharges é relevante pro churn\n",
    "\n"
   ]
  },
  {
   "cell_type": "markdown",
   "id": "30ec866b",
   "metadata": {},
   "source": [
    "#### TotalCharges (Valor Total Cobrado)"
   ]
  },
  {
   "cell_type": "code",
   "execution_count": 11,
   "id": "0c602cb2",
   "metadata": {},
   "outputs": [
    {
     "data": {
      "text/plain": [
       "dtype('float64')"
      ]
     },
     "execution_count": 11,
     "metadata": {},
     "output_type": "execute_result"
    }
   ],
   "source": [
    "# Convertendo TotalCharges para numérico, transformando strings inválidas em NaN\n",
    "\n",
    "df[\"TotalCharges\"] = pd.to_numeric(df[\"TotalCharges\"], errors='coerce')\n",
    "df[\"TotalCharges\"].dtypes"
   ]
  },
  {
   "cell_type": "code",
   "execution_count": 12,
   "id": "a7207e54",
   "metadata": {},
   "outputs": [
    {
     "data": {
      "text/plain": [
       "np.int64(11)"
      ]
     },
     "execution_count": 12,
     "metadata": {},
     "output_type": "execute_result"
    }
   ],
   "source": [
    "# Verificando se há valores nulos\n",
    "# 11 Valores Nulos\n",
    "df[\"TotalCharges\"].isnull().sum()"
   ]
  },
  {
   "cell_type": "code",
   "execution_count": 13,
   "id": "50a40d67",
   "metadata": {},
   "outputs": [],
   "source": [
    "# Dropar as linhas com NaN em TotalCharges\n",
    "df = df.dropna(subset=['TotalCharges'])"
   ]
  },
  {
   "cell_type": "code",
   "execution_count": 14,
   "id": "4209526c",
   "metadata": {},
   "outputs": [
    {
     "data": {
      "text/plain": [
       "(6530,\n",
       " count    7032.000000\n",
       " mean     2283.300441\n",
       " std      2266.771362\n",
       " min        18.800000\n",
       " 25%       401.450000\n",
       " 50%      1397.475000\n",
       " 75%      3794.737500\n",
       " max      8684.800000\n",
       " Name: TotalCharges, dtype: float64)"
      ]
     },
     "execution_count": 14,
     "metadata": {},
     "output_type": "execute_result"
    },
    {
     "data": {
      "image/png": "[encoded data removed]",
      "text/plain": [
       "<Figure size 500x300 with 1 Axes>"
      ]
     },
     "metadata": {},
     "output_type": "display_data"
    }
   ],
   "source": [
    "coluna = \"TotalCharges\"\n",
    "\n",
    "valores_unicos = df[coluna].nunique()\n",
    "descricao = df[coluna].describe()\n",
    "\n",
    "plt.figure(figsize=(5, 3))\n",
    "plt.title(\"Descrição: Valor Total Cobrado\")\n",
    "plt.xlabel(\"Valor Total Cobrado\")\n",
    "plt.ylabel(\"Clientes\")\n",
    "plt.hist(df[coluna], color=[\"#807D7D\"])\n",
    "\n",
    "valores_unicos, descricao"
   ]
  },
  {
   "cell_type": "markdown",
   "id": "594bebdd",
   "metadata": {},
   "source": [
    "A variável **TotalCharges é uma variável do tipo discreta contínua**\n",
    "\n",
    "Não foi detectado Outliers\n",
    "\n",
    "Variável lida como texto por engano, após a conversão de tipo de dado **object** para **float** apareceu 11 valores nulos, no entanto esses valores/registros ausentes não impactam na análise de churn, nesse caso remover foi totalmente seguro. \n",
    "\n",
    "Distribuição    \n",
    "- A média é de **2.283,30, com mediana em R$ 1.397,47, indicando que metade dos clientes pagaram até esse valor ao longo do contrato** .\n",
    "\n",
    "- O desvio padrão é 2.266,77, mostrando alta dispersão dos valores totais.\n",
    "\n",
    "- O histograma exibe uma distribuição assimétrica à direita (cauda longa), com grande concentração de clientes pagando até \n",
    "1.000,00 e poucos clientes com valores totais mais elevados.\n",
    "\n",
    "Análise\n",
    "- Verificar se há uma correlação entre Tenure e MonthlyCharges porque pode refletir quanto tempo o cliente permaneceu\n",
    "e quanto pagava por mês"
   ]
  },
  {
   "cell_type": "markdown",
   "id": "66c9b50e",
   "metadata": {},
   "source": [
    "#### Churn"
   ]
  },
  {
   "cell_type": "code",
   "execution_count": 15,
   "id": "7199d4b3",
   "metadata": {},
   "outputs": [
    {
     "data": {
      "image/png": "[encoded data removed]",
      "text/plain": [
       "<Figure size 500x300 with 1 Axes>"
      ]
     },
     "metadata": {},
     "output_type": "display_data"
    },
    {
     "data": {
      "text/plain": [
       "(2,\n",
       " Churn\n",
       " No     5163\n",
       " Yes    1869\n",
       " Name: count, dtype: int64,\n",
       " Churn\n",
       " No     73.421502\n",
       " Yes    26.578498\n",
       " Name: proportion, dtype: float64)"
      ]
     },
     "execution_count": 15,
     "metadata": {},
     "output_type": "execute_result"
    }
   ],
   "source": [
    "coluna = \"Churn\"\n",
    "\n",
    "valores_unicos = df[coluna].nunique()\n",
    "frequencia_absoluta = df[coluna].value_counts()\n",
    "frequencia_relativa = df[coluna].value_counts(normalize=True) * 100\n",
    "\n",
    "plt.figure(figsize=(5, 3))\n",
    "plt.title(\"Descrição: Churn\")\n",
    "frequencia_absoluta.plot(kind='bar', color=['#807D7D'])\n",
    "plt.xlabel(\"Churn\")\n",
    "plt.ylabel(\"Clientes\")\n",
    "plt.show()\n",
    "\n",
    "valores_unicos, frequencia_absoluta, frequencia_relativa"
   ]
  },
  {
   "cell_type": "markdown",
   "id": "3f59d191",
   "metadata": {},
   "source": [
    "Churn indica se o **cliente cancelou (Yes) ou manteve (No) o serviço.**\n",
    "\n",
    "A variável é qualitativa nominal e não possui valores ausentes.\n",
    "\n",
    "Distribuição\n",
    "- 73,42% dos clientes permaneceram com o serviço (No), enquanto 26,58% cancelaram (Yes).\n",
    "\n",
    "- Isso significa que 1 em cada 4 clientes, em média, realiza o cancelamento, reforçando a importância de entender os fatores que influenciam o churn.\n",
    "\n",
    "- O gráfico de barras demonstra claramente essa distribuição desbalanceada\n",
    "\n",
    "Análise\n",
    "- A variável Churn é a variável alvo deste projeto — todos os cruzamentos exploratórios buscam entender quem são os clientes que cancelam, por que cancelam e quais características estão mais associadas a esse comportamento."
   ]
  },
  {
   "cell_type": "markdown",
   "id": "0471b1f1",
   "metadata": {},
   "source": [
    "## Análise Multivariada"
   ]
  },
  {
   "cell_type": "markdown",
   "id": "28baaf0f",
   "metadata": {},
   "source": [
    "#### Análise Churn x MonthlyCharges **(Valor Mensal Cobrado)**"
   ]
  },
  {
   "cell_type": "code",
   "execution_count": 28,
   "id": "363ebeac",
   "metadata": {},
   "outputs": [
    {
     "data": {
      "image/png": "[encoded data removed]",
      "text/plain": [
       "<Figure size 1000x500 with 1 Axes>"
      ]
     },
     "metadata": {},
     "output_type": "display_data"
    },
    {
     "data": {
      "text/html": [
       "<div>\n",
       "<style scoped>\n",
       "    .dataframe tbody tr th:only-of-type {\n",
       "        vertical-align: middle;\n",
       "    }\n",
       "\n",
       "    .dataframe tbody tr th {\n",
       "        vertical-align: top;\n",
       "    }\n",
       "\n",
       "    .dataframe thead th {\n",
       "        text-align: right;\n",
       "    }\n",
       "</style>\n",
       "<table border=\"1\" class=\"dataframe\">\n",
       "  <thead>\n",
       "    <tr style=\"text-align: right;\">\n",
       "      <th></th>\n",
       "      <th>count</th>\n",
       "      <th>mean</th>\n",
       "      <th>std</th>\n",
       "      <th>min</th>\n",
       "      <th>25%</th>\n",
       "      <th>50%</th>\n",
       "      <th>75%</th>\n",
       "      <th>max</th>\n",
       "    </tr>\n",
       "    <tr>\n",
       "      <th>Churn</th>\n",
       "      <th></th>\n",
       "      <th></th>\n",
       "      <th></th>\n",
       "      <th></th>\n",
       "      <th></th>\n",
       "      <th></th>\n",
       "      <th></th>\n",
       "      <th></th>\n",
       "    </tr>\n",
       "  </thead>\n",
       "  <tbody>\n",
       "    <tr>\n",
       "      <th>No</th>\n",
       "      <td>5163.0</td>\n",
       "      <td>61.307408</td>\n",
       "      <td>31.094557</td>\n",
       "      <td>18.25</td>\n",
       "      <td>25.10</td>\n",
       "      <td>64.45</td>\n",
       "      <td>88.475</td>\n",
       "      <td>118.75</td>\n",
       "    </tr>\n",
       "    <tr>\n",
       "      <th>Yes</th>\n",
       "      <td>1869.0</td>\n",
       "      <td>74.441332</td>\n",
       "      <td>24.666053</td>\n",
       "      <td>18.85</td>\n",
       "      <td>56.15</td>\n",
       "      <td>79.65</td>\n",
       "      <td>94.200</td>\n",
       "      <td>118.35</td>\n",
       "    </tr>\n",
       "  </tbody>\n",
       "</table>\n",
       "</div>"
      ],
      "text/plain": [
       "        count       mean        std    min    25%    50%     75%     max\n",
       "Churn                                                                   \n",
       "No     5163.0  61.307408  31.094557  18.25  25.10  64.45  88.475  118.75\n",
       "Yes    1869.0  74.441332  24.666053  18.85  56.15  79.65  94.200  118.35"
      ]
     },
     "execution_count": 28,
     "metadata": {},
     "output_type": "execute_result"
    }
   ],
   "source": [
    "plt.figure(figsize=(10, 5))\n",
    "\n",
    "sns.boxplot(x='Churn', y='MonthlyCharges', data=df, color=\"#807D7D\");\n",
    "\n",
    "plt.title(\"Distribuição dos Gastos Mensais por Churn\")\n",
    "plt.xlabel('Churn')\n",
    "plt.ylabel('Gastos Mensais')\n",
    "plt.show()\n",
    "\n",
    "df.groupby('Churn')['MonthlyCharges'].describe()"
   ]
  },
  {
   "cell_type": "markdown",
   "id": "15ccf8db",
   "metadata": {},
   "source": [
    "O gasto mínimo e máximo entre clientes que cancelaram (Churn = Yes) e os que mantiveram o serviço (Churn = No) são praticamente iguais, indicando que valores extremos de cobrança não são determinantes para o churn.\n",
    "\n",
    "a média e a mediana dos gastos mensais dos clientes que cancelaram são claramente maiores:\n",
    "\n",
    "- **Média dos que cancelaram: 74,44**\n",
    "\n",
    "- **Mediana dos que cancelaram: 79,65**\n",
    "\n",
    "- Média dos que não cancelaram: 61,30\n",
    "\n",
    "- Mediana dos que não cancelaram: 64,45\n",
    "\n",
    "**Monitorar Clientes com cobranças acima da média pode ser interessante/útil para prevenir cancelamentos**"
   ]
  },
  {
   "cell_type": "markdown",
   "id": "ee41911b",
   "metadata": {},
   "source": [
    "#### Análise Churn x Tenure **(Tempo de Permanência)**"
   ]
  },
  {
   "cell_type": "code",
   "execution_count": 38,
   "id": "901f31ea",
   "metadata": {},
   "outputs": [
    {
     "data": {
      "image/png": "[encoded data removed]",
      "text/plain": [
       "<Figure size 1000x500 with 1 Axes>"
      ]
     },
     "metadata": {},
     "output_type": "display_data"
    },
    {
     "data": {
      "text/html": [
       "<div>\n",
       "<style scoped>\n",
       "    .dataframe tbody tr th:only-of-type {\n",
       "        vertical-align: middle;\n",
       "    }\n",
       "\n",
       "    .dataframe tbody tr th {\n",
       "        vertical-align: top;\n",
       "    }\n",
       "\n",
       "    .dataframe thead th {\n",
       "        text-align: right;\n",
       "    }\n",
       "</style>\n",
       "<table border=\"1\" class=\"dataframe\">\n",
       "  <thead>\n",
       "    <tr style=\"text-align: right;\">\n",
       "      <th></th>\n",
       "      <th>count</th>\n",
       "      <th>mean</th>\n",
       "      <th>std</th>\n",
       "      <th>min</th>\n",
       "      <th>25%</th>\n",
       "      <th>50%</th>\n",
       "      <th>75%</th>\n",
       "      <th>max</th>\n",
       "    </tr>\n",
       "    <tr>\n",
       "      <th>Churn</th>\n",
       "      <th></th>\n",
       "      <th></th>\n",
       "      <th></th>\n",
       "      <th></th>\n",
       "      <th></th>\n",
       "      <th></th>\n",
       "      <th></th>\n",
       "      <th></th>\n",
       "    </tr>\n",
       "  </thead>\n",
       "  <tbody>\n",
       "    <tr>\n",
       "      <th>No</th>\n",
       "      <td>5163.0</td>\n",
       "      <td>37.650010</td>\n",
       "      <td>24.076940</td>\n",
       "      <td>1.0</td>\n",
       "      <td>15.0</td>\n",
       "      <td>38.0</td>\n",
       "      <td>61.0</td>\n",
       "      <td>72.0</td>\n",
       "    </tr>\n",
       "    <tr>\n",
       "      <th>Yes</th>\n",
       "      <td>1869.0</td>\n",
       "      <td>17.979133</td>\n",
       "      <td>19.531123</td>\n",
       "      <td>1.0</td>\n",
       "      <td>2.0</td>\n",
       "      <td>10.0</td>\n",
       "      <td>29.0</td>\n",
       "      <td>72.0</td>\n",
       "    </tr>\n",
       "  </tbody>\n",
       "</table>\n",
       "</div>"
      ],
      "text/plain": [
       "        count       mean        std  min   25%   50%   75%   max\n",
       "Churn                                                           \n",
       "No     5163.0  37.650010  24.076940  1.0  15.0  38.0  61.0  72.0\n",
       "Yes    1869.0  17.979133  19.531123  1.0   2.0  10.0  29.0  72.0"
      ]
     },
     "execution_count": 38,
     "metadata": {},
     "output_type": "execute_result"
    }
   ],
   "source": [
    "plt.figure(figsize=(10, 5))\n",
    "\n",
    "sns.boxplot(x='Churn', y='tenure', data=df, color=\"#807D7D\");\n",
    "plt.title('Distribuição: Tempo de Permanência dos Clientes por Churn')\n",
    "plt.xlabel('Churn')\n",
    "plt.ylabel('Tempo de Permanência Mensal (Clientes)')\n",
    "plt.show()\n",
    "\n",
    "df.groupby('Churn')['tenure'].describe()"
   ]
  },
  {
   "cell_type": "markdown",
   "id": "71bc213f",
   "metadata": {},
   "source": [
    "O tempo de permanência (tenure) é significativamente diferente entre os clientes que cancelaram e os que mantiveram no serviço\n",
    "\n",
    "Clientes que **cancelaram (Churn = Yes) têm um tempo médio de permanência menor (17,97 meses)** em comparação com clientes que permaneceram (Churn = No), que ficam em média 37,65 meses.\n",
    "\n",
    "Limite e Mínimo ambos permanecem iguais.\n",
    "\n",
    "A mediana:\n",
    "\n",
    "- Mediana dos que cancelaram: **10 meses**\n",
    "\n",
    "- Mediana dos que ficaram: 38 meses\n",
    "\n",
    "Uma chamada de atenção para **percentil 25%** apresenta\n",
    "- 25% dos que cancelaram, **cancelam em até 2 meses**\n",
    "- Enquanto clientes que permanecem com o serviço, **permanecem por mais de 15 meses**\n",
    "\n",
    "**Clientes que acabaram de assinar o serviço cancelam**\n",
    "\n",
    "**Ação para retenção dos clientes com poucos meses de assinatura ou engajamento nos primeiros meses com oferta ou acompanhamento**"
   ]
  },
  {
   "cell_type": "code",
   "execution_count": null,
   "id": "59a75b0a",
   "metadata": {},
   "outputs": [],
   "source": []
  }
 ],
 "metadata": {
  "kernelspec": {
   "display_name": "venv",
   "language": "python",
   "name": "python3"
  },
  "language_info": {
   "codemirror_mode": {
    "name": "ipython",
    "version": 3
   },
   "file_extension": ".py",
   "mimetype": "text/x-python",
   "name": "python",
   "nbconvert_exporter": "python",
   "pygments_lexer": "ipython3",
   "version": "3.12.5"
  }
 },
 "nbformat": 4,
 "nbformat_minor": 5
}
