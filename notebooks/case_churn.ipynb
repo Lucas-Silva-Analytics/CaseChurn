{
 "cells": [
  {
   "cell_type": "markdown",
   "id": "8acf6fb6",
   "metadata": {},
   "source": [
    "# Análise de Churn\n",
    "\n",
    "## 🗂️ Descrição do Projeto\n",
    "\n",
    "Este projeto é uma **Análise Descritiva e Diagnóstica** de *churn* de clientes de uma empresa de Telecomunicações, desenvolvida totalmente em **Python**.  \n",
    "A análise explora o **perfil dos clientes**, seus **gastos mensais**, o **tempo de permanência** e como o *churn* se distribui considerando **gênero** e **status de parceria**.  \n",
    "O objetivo é identificar **padrões e fatores que podem influenciar o cancelamento**, gerando **insights visuais claros** para apoiar estratégias de retenção de clientes."
   ]
  },
  {
   "cell_type": "code",
   "execution_count": 1,
   "id": "e58d1d6a",
   "metadata": {},
   "outputs": [],
   "source": [
    "import pandas as pd\n",
    "import numpy as np\n",
    "import matplotlib.pyplot as plt\n",
    "import seaborn as sns"
   ]
  },
  {
   "cell_type": "code",
   "execution_count": null,
   "id": "3ef539cf",
   "metadata": {},
   "outputs": [],
   "source": []
  }
 ],
 "metadata": {
  "kernelspec": {
   "display_name": "venv",
   "language": "python",
   "name": "python3"
  },
  "language_info": {
   "codemirror_mode": {
    "name": "ipython",
    "version": 3
   },
   "file_extension": ".py",
   "mimetype": "text/x-python",
   "name": "python",
   "nbconvert_exporter": "python",
   "pygments_lexer": "ipython3",
   "version": "3.12.5"
  }
 },
 "nbformat": 4,
 "nbformat_minor": 5
}
